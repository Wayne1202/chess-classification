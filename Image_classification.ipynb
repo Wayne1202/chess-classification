{
  "nbformat": 4,
  "nbformat_minor": 0,
  "metadata": {
    "colab": {
      "name": "Image classification.ipynb",
      "provenance": []
    },
    "kernelspec": {
      "name": "python3",
      "display_name": "Python 3"
    },
    "language_info": {
      "name": "python"
    },
    "accelerator": "GPU"
  },
  "cells": [
    {
      "cell_type": "markdown",
      "source": [
        "##Loading Dataset"
      ],
      "metadata": {
        "id": "zxFF_NVXjKzq"
      }
    },
    {
      "cell_type": "code",
      "execution_count": 1,
      "metadata": {
        "id": "qPSRO7wG9Go8"
      },
      "outputs": [],
      "source": [
        "import numpy as np\n",
        "import pandas as pd\n",
        "import tensorflow as tf\n",
        "from sklearn.utils.multiclass import unique_labels\n",
        "import os\n",
        "import matplotlib.pyplot as plt\n",
        "import matplotlib.image as mpimg\n",
        "import seaborn as sns\n",
        "import itertools\n",
        "import keras\n",
        "from sklearn.model_selection import train_test_split\n",
        "from sklearn.metrics import confusion_matrix\n",
        "from keras import Sequential\n",
        "from keras.applications.vgg19 import VGG19 #For Transfer Learning\n",
        "from keras.preprocessing.image import ImageDataGenerator\n",
        "from tensorflow.keras.optimizers import SGD,Adam\n",
        "from keras.callbacks import ReduceLROnPlateau\n",
        "from keras.layers import Flatten,Dense,BatchNormalization,Activation,Dropout\n",
        "from tensorflow.keras.utils import to_categorical"
      ]
    },
    {
      "cell_type": "code",
      "source": [
        "from keras.datasets import cifar10"
      ],
      "metadata": {
        "id": "Z-hX0D7p9I_S"
      },
      "execution_count": 2,
      "outputs": []
    },
    {
      "cell_type": "code",
      "source": [
        "(x_train,y_train),(x_test,y_test)=cifar10.load_data()\n",
        "x_train,x_val,y_train,y_val=train_test_split(x_train,y_train,test_size=.3, random_state=11)"
      ],
      "metadata": {
        "id": "eilkb7Yx9Q7p",
        "colab": {
          "base_uri": "https://localhost:8080/"
        },
        "outputId": "07722334-05a9-423b-9f8c-ad09b1eb143a"
      },
      "execution_count": 3,
      "outputs": [
        {
          "output_type": "stream",
          "name": "stdout",
          "text": [
            "Downloading data from https://www.cs.toronto.edu/~kriz/cifar-10-python.tar.gz\n",
            "170500096/170498071 [==============================] - 3s 0us/step\n",
            "170508288/170498071 [==============================] - 3s 0us/step\n"
          ]
        }
      ]
    },
    {
      "cell_type": "code",
      "source": [
        "CLASS_NAMES= ['airplane', 'automobile', 'bird', 'cat', 'deer', 'dog', 'frog', 'horse', 'ship', 'truck']"
      ],
      "metadata": {
        "id": "BXjinzPA_nso"
      },
      "execution_count": 4,
      "outputs": []
    },
    {
      "cell_type": "code",
      "source": [
        "print((x_train.shape,y_train.shape))\n",
        "print((x_val.shape,y_val.shape))\n",
        "print((x_test.shape,y_test.shape))"
      ],
      "metadata": {
        "colab": {
          "base_uri": "https://localhost:8080/"
        },
        "id": "MCKCdYdK_pvw",
        "outputId": "c6e69543-1151-4c7d-dde6-8bd51b17e10b"
      },
      "execution_count": 5,
      "outputs": [
        {
          "output_type": "stream",
          "name": "stdout",
          "text": [
            "((35000, 32, 32, 3), (35000, 1))\n",
            "((15000, 32, 32, 3), (15000, 1))\n",
            "((10000, 32, 32, 3), (10000, 1))\n"
          ]
        }
      ]
    },
    {
      "cell_type": "code",
      "source": [
        "y_train=to_categorical(y_train)\n",
        "y_val=to_categorical(y_val)\n",
        "y_test=to_categorical(y_test)"
      ],
      "metadata": {
        "id": "acsvWorlEo-Q"
      },
      "execution_count": 6,
      "outputs": []
    },
    {
      "cell_type": "code",
      "source": [
        "print(y_train)"
      ],
      "metadata": {
        "colab": {
          "base_uri": "https://localhost:8080/"
        },
        "id": "c8a_-dmzUDfM",
        "outputId": "7fa10c4d-ade5-4e73-b460-22f08bc43204"
      },
      "execution_count": 7,
      "outputs": [
        {
          "output_type": "stream",
          "name": "stdout",
          "text": [
            "[[0. 0. 0. ... 0. 0. 1.]\n",
            " [0. 0. 0. ... 0. 0. 1.]\n",
            " [0. 0. 0. ... 0. 0. 1.]\n",
            " ...\n",
            " [0. 0. 0. ... 0. 0. 1.]\n",
            " [0. 0. 0. ... 0. 0. 0.]\n",
            " [0. 0. 0. ... 0. 0. 0.]]\n"
          ]
        }
      ]
    },
    {
      "cell_type": "code",
      "source": [
        "print((x_train.shape,y_train.shape))\n",
        "print((x_val.shape,y_val.shape))\n",
        "print((x_test.shape,y_test.shape))"
      ],
      "metadata": {
        "colab": {
          "base_uri": "https://localhost:8080/"
        },
        "id": "G-_2bIQZErA3",
        "outputId": "cdd63407-ea93-4e5a-e5cd-1a0da0031441"
      },
      "execution_count": 8,
      "outputs": [
        {
          "output_type": "stream",
          "name": "stdout",
          "text": [
            "((35000, 32, 32, 3), (35000, 10))\n",
            "((15000, 32, 32, 3), (15000, 10))\n",
            "((10000, 32, 32, 3), (10000, 10))\n"
          ]
        }
      ]
    },
    {
      "cell_type": "markdown",
      "source": [
        "## Building model"
      ],
      "metadata": {
        "id": "1JnjYI1ejR1G"
      }
    },
    {
      "cell_type": "code",
      "source": [
        "earlystopping = keras.callbacks.EarlyStopping(monitor =\"val_loss\", \n",
        "                                        mode =\"min\", patience = 0, \n",
        "                                        restore_best_weights = True)"
      ],
      "metadata": {
        "id": "gNcMTApGE_iu"
      },
      "execution_count": null,
      "outputs": []
    },
    {
      "cell_type": "code",
      "source": [
        "base_model = VGG19(include_top = False, weights = 'imagenet', input_shape = (32,32,3), classes = y_train.shape[1])"
      ],
      "metadata": {
        "id": "5A3YUkiyFFCK"
      },
      "execution_count": null,
      "outputs": []
    },
    {
      "cell_type": "code",
      "source": [
        "model= Sequential()\n",
        "model.add(base_model) \n",
        "model.add(Flatten())"
      ],
      "metadata": {
        "id": "4z33ZXQpFfkH"
      },
      "execution_count": null,
      "outputs": []
    },
    {
      "cell_type": "code",
      "source": [
        "model.add(Dense(1024,activation=('relu'),input_dim=512))\n",
        "model.add(Dense(512,activation=('relu'))) \n",
        "model.add(Dense(256,activation=('relu'))) \n",
        "#model.add(Dropout(.2))\n",
        "model.add(Dense(10,activation=('softmax'))) "
      ],
      "metadata": {
        "id": "wwobzKc4Fgho"
      },
      "execution_count": null,
      "outputs": []
    },
    {
      "cell_type": "code",
      "source": [
        "model.summary()"
      ],
      "metadata": {
        "colab": {
          "base_uri": "https://localhost:8080/"
        },
        "id": "D22rsflgFhvV",
        "outputId": "ff82e82d-8fcb-4577-bcac-61eb3702c4e8"
      },
      "execution_count": null,
      "outputs": [
        {
          "output_type": "stream",
          "name": "stdout",
          "text": [
            "Model: \"sequential_3\"\n",
            "_________________________________________________________________\n",
            " Layer (type)                Output Shape              Param #   \n",
            "=================================================================\n",
            " vgg19 (Functional)          (None, 1, 1, 512)         20024384  \n",
            "                                                                 \n",
            " flatten_3 (Flatten)         (None, 512)               0         \n",
            "                                                                 \n",
            " dense_8 (Dense)             (None, 1024)              525312    \n",
            "                                                                 \n",
            " dense_9 (Dense)             (None, 512)               524800    \n",
            "                                                                 \n",
            " dense_10 (Dense)            (None, 256)               131328    \n",
            "                                                                 \n",
            " dense_11 (Dense)            (None, 10)                2570      \n",
            "                                                                 \n",
            "=================================================================\n",
            "Total params: 21,208,394\n",
            "Trainable params: 21,208,394\n",
            "Non-trainable params: 0\n",
            "_________________________________________________________________\n"
          ]
        }
      ]
    },
    {
      "cell_type": "code",
      "source": [
        "batch_size= 100\n",
        "epochs=50\n",
        "learn_rate=.003\n",
        "sgd=SGD(lr=learn_rate,momentum=.9,nesterov=False)\n",
        "adam=Adam(lr=learn_rate, beta_1=0.9, beta_2=0.999, epsilon=None, decay=0.0, amsgrad=False)\n",
        "model.compile(optimizer=sgd,loss='categorical_crossentropy',metrics=['accuracy'])"
      ],
      "metadata": {
        "colab": {
          "base_uri": "https://localhost:8080/"
        },
        "id": "JH038OsfFitO",
        "outputId": "f1decaaf-6364-4b5d-ec2a-f32864f991c0"
      },
      "execution_count": null,
      "outputs": [
        {
          "output_type": "stream",
          "name": "stderr",
          "text": [
            "/usr/local/lib/python3.7/dist-packages/keras/optimizer_v2/gradient_descent.py:102: UserWarning: The `lr` argument is deprecated, use `learning_rate` instead.\n",
            "  super(SGD, self).__init__(name, **kwargs)\n",
            "/usr/local/lib/python3.7/dist-packages/keras/optimizer_v2/adam.py:105: UserWarning: The `lr` argument is deprecated, use `learning_rate` instead.\n",
            "  super(Adam, self).__init__(name, **kwargs)\n"
          ]
        }
      ]
    },
    {
      "cell_type": "code",
      "source": [
        "print(x_train.shape,y_train.shape)"
      ],
      "metadata": {
        "colab": {
          "base_uri": "https://localhost:8080/"
        },
        "id": "nnk345mJHLFQ",
        "outputId": "dff2f12c-b6cc-40ca-889b-8841ad00d6d6"
      },
      "execution_count": null,
      "outputs": [
        {
          "output_type": "stream",
          "name": "stdout",
          "text": [
            "(35000, 32, 32, 3) (35000, 10)\n"
          ]
        }
      ]
    },
    {
      "cell_type": "markdown",
      "source": [
        "## Training the model"
      ],
      "metadata": {
        "id": "P-eCTUeyjWD6"
      }
    },
    {
      "cell_type": "code",
      "source": [
        "model.fit(x = x_train, y = y_train,epochs = epochs, steps_per_epoch = x_train.shape[0]//batch_size, validation_data = (x_val,y_val), validation_freq=1, verbose = 1)"
      ],
      "metadata": {
        "colab": {
          "base_uri": "https://localhost:8080/"
        },
        "id": "MVk2C9hIFkV_",
        "outputId": "108f9976-f18d-4df0-91bd-9b64518ce414"
      },
      "execution_count": null,
      "outputs": [
        {
          "output_type": "stream",
          "name": "stdout",
          "text": [
            "Epoch 1/50\n",
            "350/350 [==============================] - 28s 77ms/step - loss: 2.2383 - accuracy: 0.1689 - val_loss: 2.0091 - val_accuracy: 0.2103\n",
            "Epoch 2/50\n",
            "350/350 [==============================] - 26s 75ms/step - loss: 1.9453 - accuracy: 0.2199 - val_loss: 1.9521 - val_accuracy: 0.2149\n",
            "Epoch 3/50\n",
            "350/350 [==============================] - 26s 76ms/step - loss: 1.7757 - accuracy: 0.2741 - val_loss: 1.5897 - val_accuracy: 0.3661\n",
            "Epoch 4/50\n",
            "350/350 [==============================] - 26s 75ms/step - loss: 1.5156 - accuracy: 0.3961 - val_loss: 1.3666 - val_accuracy: 0.4614\n",
            "Epoch 5/50\n",
            "350/350 [==============================] - 26s 75ms/step - loss: 1.2900 - accuracy: 0.4960 - val_loss: 1.1561 - val_accuracy: 0.5597\n",
            "Epoch 6/50\n",
            "350/350 [==============================] - 26s 75ms/step - loss: 1.0279 - accuracy: 0.6097 - val_loss: 1.0145 - val_accuracy: 0.6325\n",
            "Epoch 7/50\n",
            "350/350 [==============================] - 26s 76ms/step - loss: 0.8253 - accuracy: 0.7120 - val_loss: 0.8151 - val_accuracy: 0.7195\n",
            "Epoch 8/50\n",
            "350/350 [==============================] - 26s 75ms/step - loss: 0.6799 - accuracy: 0.7659 - val_loss: 0.7120 - val_accuracy: 0.7574\n",
            "Epoch 9/50\n",
            "350/350 [==============================] - 26s 76ms/step - loss: 0.5879 - accuracy: 0.7986 - val_loss: 0.6471 - val_accuracy: 0.7825\n",
            "Epoch 10/50\n",
            "350/350 [==============================] - 26s 75ms/step - loss: 0.4969 - accuracy: 0.8294 - val_loss: 0.6198 - val_accuracy: 0.7979\n",
            "Epoch 11/50\n",
            "350/350 [==============================] - 26s 75ms/step - loss: 0.4144 - accuracy: 0.8598 - val_loss: 0.6417 - val_accuracy: 0.8035\n",
            "Epoch 12/50\n",
            "350/350 [==============================] - 26s 75ms/step - loss: 0.3660 - accuracy: 0.8760 - val_loss: 0.6051 - val_accuracy: 0.8147\n",
            "Epoch 13/50\n",
            "350/350 [==============================] - 26s 76ms/step - loss: 0.3103 - accuracy: 0.8949 - val_loss: 0.6206 - val_accuracy: 0.8051\n",
            "Epoch 14/50\n",
            "350/350 [==============================] - 26s 75ms/step - loss: 0.2565 - accuracy: 0.9142 - val_loss: 0.6894 - val_accuracy: 0.8081\n",
            "Epoch 15/50\n",
            "350/350 [==============================] - 26s 75ms/step - loss: 0.2212 - accuracy: 0.9251 - val_loss: 0.6277 - val_accuracy: 0.8212\n",
            "Epoch 16/50\n",
            "350/350 [==============================] - 26s 75ms/step - loss: 0.2019 - accuracy: 0.9339 - val_loss: 0.7522 - val_accuracy: 0.7955\n",
            "Epoch 17/50\n",
            "350/350 [==============================] - 26s 75ms/step - loss: 0.1698 - accuracy: 0.9453 - val_loss: 0.7159 - val_accuracy: 0.8101\n",
            "Epoch 18/50\n",
            "350/350 [==============================] - 26s 75ms/step - loss: 0.1427 - accuracy: 0.9531 - val_loss: 0.7091 - val_accuracy: 0.8147\n",
            "Epoch 19/50\n",
            "350/350 [==============================] - 26s 76ms/step - loss: 0.1256 - accuracy: 0.9592 - val_loss: 0.7437 - val_accuracy: 0.8232\n",
            "Epoch 20/50\n",
            "350/350 [==============================] - 26s 76ms/step - loss: 0.1118 - accuracy: 0.9642 - val_loss: 0.7477 - val_accuracy: 0.8213\n",
            "Epoch 21/50\n",
            "350/350 [==============================] - 26s 76ms/step - loss: 0.0872 - accuracy: 0.9717 - val_loss: 0.7307 - val_accuracy: 0.8231\n",
            "Epoch 22/50\n",
            "350/350 [==============================] - 26s 75ms/step - loss: 0.0886 - accuracy: 0.9717 - val_loss: 0.7658 - val_accuracy: 0.8243\n",
            "Epoch 23/50\n",
            "350/350 [==============================] - 26s 75ms/step - loss: 0.0758 - accuracy: 0.9755 - val_loss: 0.7342 - val_accuracy: 0.8256\n",
            "Epoch 24/50\n",
            "350/350 [==============================] - 26s 75ms/step - loss: 0.0622 - accuracy: 0.9799 - val_loss: 0.8394 - val_accuracy: 0.8173\n",
            "Epoch 25/50\n",
            "350/350 [==============================] - 26s 75ms/step - loss: 0.0624 - accuracy: 0.9802 - val_loss: 0.7730 - val_accuracy: 0.8333\n",
            "Epoch 26/50\n",
            "350/350 [==============================] - 26s 75ms/step - loss: 0.0634 - accuracy: 0.9785 - val_loss: 0.7503 - val_accuracy: 0.8333\n",
            "Epoch 27/50\n",
            "350/350 [==============================] - 26s 75ms/step - loss: 0.0446 - accuracy: 0.9856 - val_loss: 0.8196 - val_accuracy: 0.8317\n",
            "Epoch 28/50\n",
            "350/350 [==============================] - 26s 75ms/step - loss: 0.0442 - accuracy: 0.9858 - val_loss: 0.8061 - val_accuracy: 0.8305\n",
            "Epoch 29/50\n",
            "350/350 [==============================] - 26s 75ms/step - loss: 0.0430 - accuracy: 0.9861 - val_loss: 0.8309 - val_accuracy: 0.8275\n",
            "Epoch 30/50\n",
            "350/350 [==============================] - 26s 75ms/step - loss: 0.0442 - accuracy: 0.9864 - val_loss: 0.7696 - val_accuracy: 0.8322\n",
            "Epoch 31/50\n",
            "350/350 [==============================] - 26s 75ms/step - loss: 0.0362 - accuracy: 0.9884 - val_loss: 0.8473 - val_accuracy: 0.8311\n",
            "Epoch 32/50\n",
            "350/350 [==============================] - 26s 76ms/step - loss: 0.0284 - accuracy: 0.9914 - val_loss: 0.9671 - val_accuracy: 0.8157\n",
            "Epoch 33/50\n",
            "350/350 [==============================] - 26s 75ms/step - loss: 0.0324 - accuracy: 0.9893 - val_loss: 0.8769 - val_accuracy: 0.8288\n",
            "Epoch 34/50\n",
            "350/350 [==============================] - 26s 75ms/step - loss: 0.0343 - accuracy: 0.9884 - val_loss: 0.9156 - val_accuracy: 0.8285\n",
            "Epoch 35/50\n",
            "350/350 [==============================] - 26s 75ms/step - loss: 0.0290 - accuracy: 0.9911 - val_loss: 0.8433 - val_accuracy: 0.8326\n",
            "Epoch 36/50\n",
            "350/350 [==============================] - 26s 75ms/step - loss: 0.0214 - accuracy: 0.9930 - val_loss: 0.9417 - val_accuracy: 0.8243\n",
            "Epoch 37/50\n",
            "350/350 [==============================] - 26s 75ms/step - loss: 0.0193 - accuracy: 0.9937 - val_loss: 0.9394 - val_accuracy: 0.8257\n",
            "Epoch 38/50\n",
            "350/350 [==============================] - 26s 76ms/step - loss: 0.0254 - accuracy: 0.9927 - val_loss: 0.8886 - val_accuracy: 0.8331\n",
            "Epoch 39/50\n",
            "350/350 [==============================] - 26s 76ms/step - loss: 0.0191 - accuracy: 0.9940 - val_loss: 1.0099 - val_accuracy: 0.8231\n",
            "Epoch 40/50\n",
            "350/350 [==============================] - 26s 76ms/step - loss: 0.0193 - accuracy: 0.9941 - val_loss: 0.9429 - val_accuracy: 0.8314\n",
            "Epoch 41/50\n",
            "350/350 [==============================] - 26s 75ms/step - loss: 0.0297 - accuracy: 0.9903 - val_loss: 0.9031 - val_accuracy: 0.8303\n",
            "Epoch 42/50\n",
            "350/350 [==============================] - 26s 75ms/step - loss: 0.0147 - accuracy: 0.9954 - val_loss: 0.9110 - val_accuracy: 0.8405\n",
            "Epoch 43/50\n",
            "350/350 [==============================] - 26s 76ms/step - loss: 0.0154 - accuracy: 0.9951 - val_loss: 0.9409 - val_accuracy: 0.8285\n",
            "Epoch 44/50\n",
            "350/350 [==============================] - 26s 75ms/step - loss: 0.0183 - accuracy: 0.9945 - val_loss: 0.9399 - val_accuracy: 0.8342\n",
            "Epoch 45/50\n",
            "350/350 [==============================] - 26s 75ms/step - loss: 0.0032 - accuracy: 0.9991 - val_loss: 0.9794 - val_accuracy: 0.8428\n",
            "Epoch 46/50\n",
            "350/350 [==============================] - 26s 75ms/step - loss: 0.0150 - accuracy: 0.9953 - val_loss: 0.9155 - val_accuracy: 0.8355\n",
            "Epoch 47/50\n",
            "350/350 [==============================] - 26s 75ms/step - loss: 0.0100 - accuracy: 0.9971 - val_loss: 0.9714 - val_accuracy: 0.8383\n",
            "Epoch 48/50\n",
            "350/350 [==============================] - 26s 76ms/step - loss: 0.0146 - accuracy: 0.9953 - val_loss: 1.0080 - val_accuracy: 0.8350\n",
            "Epoch 49/50\n",
            "350/350 [==============================] - 26s 75ms/step - loss: 0.0256 - accuracy: 0.9919 - val_loss: 0.8811 - val_accuracy: 0.8385\n",
            "Epoch 50/50\n",
            "350/350 [==============================] - 27s 76ms/step - loss: 0.0112 - accuracy: 0.9968 - val_loss: 0.9549 - val_accuracy: 0.8364\n"
          ]
        },
        {
          "output_type": "execute_result",
          "data": {
            "text/plain": [
              "<keras.callbacks.History at 0x7fd03236fb50>"
            ]
          },
          "metadata": {},
          "execution_count": 51
        }
      ]
    },
    {
      "cell_type": "code",
      "source": [
        "model.save('my_model.h5') "
      ],
      "metadata": {
        "id": "tqZMXZwEF08D"
      },
      "execution_count": null,
      "outputs": []
    },
    {
      "cell_type": "code",
      "source": [
        "from google.colab import drive\n",
        "drive.mount('/content/gdrive')"
      ],
      "metadata": {
        "colab": {
          "base_uri": "https://localhost:8080/"
        },
        "id": "HU9Xy67Dd5f_",
        "outputId": "bc98c4a4-e9cd-4feb-a6d4-f65927f99b63"
      },
      "execution_count": null,
      "outputs": [
        {
          "output_type": "stream",
          "name": "stdout",
          "text": [
            "Mounted at /content/gdrive\n"
          ]
        }
      ]
    },
    {
      "cell_type": "code",
      "source": [
        "model_save_name = 'classifier.h5'\n",
        "path = F\"/content/gdrive/My Drive/{model_save_name}\" \n",
        "model.save(path)"
      ],
      "metadata": {
        "id": "RxOalA66eZ3l"
      },
      "execution_count": null,
      "outputs": []
    },
    {
      "cell_type": "markdown",
      "source": [
        "## Loading saved model"
      ],
      "metadata": {
        "id": "e_Lay3eZjZPH"
      }
    },
    {
      "cell_type": "code",
      "source": [
        "from google.colab import drive\n",
        "drive.mount('/content/gdrive')"
      ],
      "metadata": {
        "colab": {
          "base_uri": "https://localhost:8080/"
        },
        "id": "Q_Oc30-8jeyj",
        "outputId": "8ab8b380-f7d9-4cfd-f957-925db3a7e61c"
      },
      "execution_count": 9,
      "outputs": [
        {
          "output_type": "stream",
          "name": "stdout",
          "text": [
            "Mounted at /content/gdrive\n"
          ]
        }
      ]
    },
    {
      "cell_type": "code",
      "source": [
        "model_save_name = 'classifier.h5'\n",
        "path = F\"/content/gdrive/My Drive/{model_save_name}\" \n",
        "model = tf.keras.models.load_model(path)"
      ],
      "metadata": {
        "id": "8j9vHoLDe8oo"
      },
      "execution_count": 10,
      "outputs": []
    },
    {
      "cell_type": "markdown",
      "source": [
        ""
      ],
      "metadata": {
        "id": "vA16CJ99jItZ"
      }
    },
    {
      "cell_type": "code",
      "source": [
        "model.evaluate(x_test,y_test)"
      ],
      "metadata": {
        "colab": {
          "base_uri": "https://localhost:8080/"
        },
        "id": "rw5qq0nMfLC_",
        "outputId": "0c289db0-2b1c-483f-95ba-48ca06cb09d6"
      },
      "execution_count": 13,
      "outputs": [
        {
          "output_type": "stream",
          "name": "stdout",
          "text": [
            "313/313 [==============================] - 8s 24ms/step - loss: 1.0299 - accuracy: 0.8269\n"
          ]
        },
        {
          "output_type": "execute_result",
          "data": {
            "text/plain": [
              "[1.0298823118209839, 0.8269000053405762]"
            ]
          },
          "metadata": {},
          "execution_count": 13
        }
      ]
    },
    {
      "cell_type": "code",
      "source": [
        "#Making prediction\n",
        "y_pred=model.predict(x_test)\n",
        "y_true=np.argmax(y_test,axis=1)"
      ],
      "metadata": {
        "id": "G0cKEsc6f5L-"
      },
      "execution_count": 12,
      "outputs": []
    },
    {
      "cell_type": "code",
      "source": [
        "y_pred = np.argmax(y_pred,axis = 1)"
      ],
      "metadata": {
        "id": "nIf5JpPukpEa"
      },
      "execution_count": 32,
      "outputs": []
    },
    {
      "cell_type": "code",
      "source": [
        "#Defining function for confusion matrix plot\n",
        "def plot_confusion_matrix(y_true, y_pred, classes,\n",
        "                          normalize=False,\n",
        "                          title=None,\n",
        "                          cmap=plt.cm.Blues):\n",
        "\n",
        "    if not title:\n",
        "        if normalize:\n",
        "            title = 'Normalized confusion matrix'\n",
        "        else:\n",
        "            title = 'Confusion matrix, without normalization'\n",
        "\n",
        "    #Compute confusion matrix\n",
        "    cm = confusion_matrix(y_true, y_pred)\n",
        "    if normalize:\n",
        "        cm = cm.astype('float') / cm.sum(axis=1)[:, np.newaxis]\n",
        "        print(\"Normalized confusion matrix\")\n",
        "    else:\n",
        "        print('Confusion matrix, without normalization')\n",
        "\n",
        "#print(cm)\n",
        "\n",
        "    fig, ax = plt.subplots(figsize=(7,7))\n",
        "    im = ax.imshow(cm, interpolation='nearest', cmap=cmap)\n",
        "    ax.figure.colorbar(im, ax=ax)\n",
        "    # We want to show all ticks...\n",
        "    ax.set(xticks=np.arange(cm.shape[1]),\n",
        "           yticks=np.arange(cm.shape[0]),\n",
        "           # ... and label them with the respective list entries\n",
        "           xticklabels=classes, yticklabels=classes,\n",
        "           title=title,\n",
        "           ylabel='True label',\n",
        "           xlabel='Predicted label')\n",
        "\n",
        "\n",
        "    #Rotate the tick labels and set their alignment.\n",
        "    plt.setp(ax.get_xticklabels(), rotation=45, ha=\"right\",\n",
        "             rotation_mode=\"anchor\")\n",
        "    # Loop over data dimensions and create text annotations.\n",
        "    fmt = '.2f' if normalize else 'd'\n",
        "    thresh = cm.max() / 2.\n",
        "    for i in range(cm.shape[0]):\n",
        "        for j in range(cm.shape[1]):\n",
        "            ax.text(j, i, format(cm[i, j], fmt),\n",
        "                    ha=\"center\", va=\"center\",\n",
        "                    color=\"white\" if cm[i, j] > thresh else \"black\")\n",
        "    fig.tight_layout()\n",
        "    return ax\n",
        "\n",
        "np.set_printoptions(precision=2)"
      ],
      "metadata": {
        "id": "dm-nx0j1k08f"
      },
      "execution_count": 33,
      "outputs": []
    },
    {
      "cell_type": "code",
      "source": [
        "#Plotting the confusion matrix\n",
        "confusion_mtx = confusion_matrix(y_true, y_pred)\n",
        "\n",
        "#Defining the class labels\n",
        "class_names=['airplane', 'automobile', 'bird', 'cat', 'deer', 'dog', 'frog', 'horse', 'ship', 'truck']\n",
        "\n",
        "# Plotting non-normalized confusion matrix\n",
        "plot_confusion_matrix(y_true, y_pred, classes = class_names, title='Confusion matrix, without normalization')"
      ],
      "metadata": {
        "colab": {
          "base_uri": "https://localhost:8080/",
          "height": 524
        },
        "id": "35w0DMBr4P0r",
        "outputId": "11bacb5b-6346-47d3-c2b7-66f20a3e04be"
      },
      "execution_count": 34,
      "outputs": [
        {
          "output_type": "stream",
          "name": "stdout",
          "text": [
            "Confusion matrix, without normalization\n"
          ]
        },
        {
          "output_type": "execute_result",
          "data": {
            "text/plain": [
              "<matplotlib.axes._subplots.AxesSubplot at 0x7f209cfa5450>"
            ]
          },
          "metadata": {},
          "execution_count": 34
        },
        {
          "output_type": "display_data",
          "data": {
            "image/png": "[encoded data removed]",
            "text/plain": [
              "<Figure size 504x504 with 2 Axes>"
            ]
          },
          "metadata": {
            "needs_background": "light"
          }
        }
      ]
    },
    {
      "cell_type": "code",
      "source": [
        "#Plotting normalized confusion matrix\n",
        "plot_confusion_matrix(y_true, y_pred, classes = class_names, normalize = True, title = 'Normalized confusion matrix')"
      ],
      "metadata": {
        "colab": {
          "base_uri": "https://localhost:8080/",
          "height": 524
        },
        "id": "W-ZoN-yD5Z9C",
        "outputId": "d15517c0-386a-4ddd-bf32-b941eda75202"
      },
      "execution_count": 35,
      "outputs": [
        {
          "output_type": "stream",
          "name": "stdout",
          "text": [
            "Normalized confusion matrix\n"
          ]
        },
        {
          "output_type": "execute_result",
          "data": {
            "text/plain": [
              "<matplotlib.axes._subplots.AxesSubplot at 0x7f211c09d9d0>"
            ]
          },
          "metadata": {},
          "execution_count": 35
        },
        {
          "output_type": "display_data",
          "data": {
            "image/png": "[encoded data removed]",
            "text/plain": [
              "<Figure size 504x504 with 2 Axes>"
            ]
          },
          "metadata": {
            "needs_background": "light"
          }
        }
      ]
    },
    {
      "cell_type": "code",
      "source": [
        ""
      ],
      "metadata": {
        "id": "9sJi84bF6Cov"
      },
      "execution_count": null,
      "outputs": []
    }
  ]
}